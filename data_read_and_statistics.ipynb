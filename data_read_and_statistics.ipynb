{
 "cells": [
  {
   "cell_type": "code",
   "execution_count": 1,
   "metadata": {
    "collapsed": true,
    "scrolled": true
   },
   "outputs": [],
   "source": [
    "import mne\n",
    "import numpy as np\n",
    "%matplotlib inline\n",
    "import matplotlib.pyplot as plt\n",
    "%matplotlib inline"
   ]
  },
  {
   "cell_type": "code",
   "execution_count": 4,
   "metadata": {},
   "outputs": [
    {
     "name": "stdout",
     "output_type": "stream",
     "text": [
      "Extracting parameters from data/resting_state/zavrin_open_eyes_eeg_15021500.vhdr...\n",
      "Setting channel info structure...\n",
      "Reading 0 ... 301999  =      0.000 ...   301.999 secs...\n"
     ]
    },
    {
     "data": {
      "text/plain": [
       "(61, 302000)"
      ]
     },
     "execution_count": 4,
     "metadata": {},
     "output_type": "execute_result"
    }
   ],
   "source": [
    "raw = mne.io.read_raw_brainvision(\"/yakushin/eeg/data/resting_state/zavrin_open_eyes_eeg_15021500.vhdr\", preload=True)\n",
    "raw.get_data().shape"
   ]
  },
  {
   "cell_type": "code",
   "execution_count": 6,
   "metadata": {},
   "outputs": [
    {
     "data": {
      "text/plain": [
       "[<matplotlib.lines.Line2D at 0x108723e80>]"
      ]
     },
     "execution_count": 6,
     "metadata": {},
     "output_type": "execute_result"
    },
    {
     "data": {
      "image/png": "[encoded data removed]",
      "text/plain": [
       "<matplotlib.figure.Figure at 0x10d0153c8>"
      ]
     },
     "metadata": {},
     "output_type": "display_data"
    }
   ],
   "source": [
    "plt.plot(raw.get_data()[1][0:100])\n",
    "plt.show()"
   ]
  },
  {
   "cell_type": "code",
   "execution_count": 8,
   "metadata": {
    "scrolled": true
   },
   "outputs": [
    {
     "data": {
      "text/plain": [
       "<Info | 17 non-empty fields\n",
       "    bads : list | 0 items\n",
       "    buffer_size_sec : float | 1.0\n",
       "    ch_names : list | Fp1, Fz, F3, F7, HEOG, FC5, FC1, C3, T7, ...\n",
       "    chs : list | 61 items (EEG: 60, STIM: 1)\n",
       "    comps : list | 0 items\n",
       "    custom_ref_applied : bool | False\n",
       "    dev_head_t : Transform | 3 items\n",
       "    events : list | 0 items\n",
       "    highpass : float | 0.0 Hz\n",
       "    hpi_meas : list | 0 items\n",
       "    hpi_results : list | 0 items\n",
       "    lowpass : float | 500.0 Hz\n",
       "    meas_date : int | 1511965713\n",
       "    nchan : int | 61\n",
       "    proc_history : list | 0 items\n",
       "    projs : list | 0 items\n",
       "    sfreq : float | 1000.0 Hz\n",
       "    acq_pars : NoneType\n",
       "    acq_stim : NoneType\n",
       "    ctf_head_t : NoneType\n",
       "    description : NoneType\n",
       "    dev_ctf_t : NoneType\n",
       "    dig : NoneType\n",
       "    experimenter : NoneType\n",
       "    file_id : NoneType\n",
       "    hpi_subsystem : NoneType\n",
       "    kit_system_id : NoneType\n",
       "    line_freq : NoneType\n",
       "    meas_id : NoneType\n",
       "    proj_id : NoneType\n",
       "    proj_name : NoneType\n",
       "    subject_info : NoneType\n",
       "    xplotter_layout : NoneType\n",
       ">"
      ]
     },
     "execution_count": 8,
     "metadata": {},
     "output_type": "execute_result"
    }
   ],
   "source": [
    "raw.info"
   ]
  },
  {
   "cell_type": "code",
   "execution_count": 9,
   "metadata": {},
   "outputs": [
    {
     "data": {
      "text/plain": [
       "array([ -2.24967933e-02,  -1.10168948e-02,  -3.78008283e-03,\n",
       "        -9.35546260e-03,  -9.93139163e-03,  -7.29884524e-03,\n",
       "        -1.21969218e-02,  -1.41059861e-02,  -2.17867644e-03,\n",
       "        -1.08270224e-02,  -4.78528820e-03,  -3.53754628e-03,\n",
       "        -1.56318190e-02,  -7.13576691e-03,  -3.64841720e-03,\n",
       "         7.66854316e-03,   1.69765051e-03,  -2.50587693e-03,\n",
       "        -1.55495551e-02,  -3.38840979e-03,   4.94147619e-03,\n",
       "         1.26232073e-03,  -1.63027989e-03,  -1.26025153e-02,\n",
       "        -4.71076270e-03,  -3.91827803e-03,   8.42002772e-04,\n",
       "        -2.08983172e-02,  -2.93398041e-02,  -2.02319291e-02,\n",
       "        -1.28013157e-02,  -2.08936119e-02,  -1.77399733e-02,\n",
       "        -3.14289939e-03,  -6.33324779e-03,  -2.36432870e-04,\n",
       "        -4.34219864e-03,  -4.57511188e-03,  -6.34250242e-03,\n",
       "        -1.64871098e-02,   9.55404434e-04,   4.42471381e-03,\n",
       "        -5.96140719e-03,  -1.55780851e-03,  -6.89074879e-03,\n",
       "         3.97172447e-03,   6.08258674e-03,   6.00888882e-05,\n",
       "        -1.97711313e-04,   4.00421480e-03,  -2.04988325e-03,\n",
       "         2.70153652e-04,   1.72692739e-03,   3.68527273e-04,\n",
       "         3.17537738e-03,  -5.18149650e-03,  -3.93238105e-03,\n",
       "        -1.92161466e-03,  -5.94405569e-04,  -9.47228187e-03,\n",
       "         0.00000000e+00])"
      ]
     },
     "execution_count": 9,
     "metadata": {},
     "output_type": "execute_result"
    }
   ],
   "source": [
    "raw.get_data().mean(axis = 1)"
   ]
  },
  {
   "cell_type": "code",
   "execution_count": 11,
   "metadata": {},
   "outputs": [
    {
     "data": {
      "text/plain": [
       "array([  1.10622780e-04,   3.71891391e-05,   4.63523803e-05,\n",
       "         4.26558372e-05,   1.59675547e-05,   1.09015637e-04,\n",
       "         9.79514510e-05,   2.78053804e-05,   3.41943585e-05,\n",
       "         2.50781197e-05,   1.15893112e-04,   8.67090355e-05,\n",
       "         3.19033787e-05,   1.96528105e-05,   4.82171471e-05,\n",
       "         4.71234059e-05,   1.58336967e-05,   3.08337768e-05,\n",
       "         2.08206562e-05,   4.99662146e-05,   2.89206561e-05,\n",
       "         3.08297038e-05,   1.89991439e-05,   7.94988428e-05,\n",
       "         3.48917165e-05,   6.17899618e-05,   3.02022440e-05,\n",
       "         4.38224410e-04,   1.31728510e-04,   3.38923064e-05,\n",
       "         2.92246654e-05,   4.94555425e-05,   4.56665052e-05,\n",
       "         1.57219245e-05,   1.09520072e-04,   1.62960541e-05,\n",
       "         6.77037996e-05,   2.99413366e-05,   4.21462931e-05,\n",
       "         2.36194957e-05,   3.27058756e-05,   1.44736210e-05,\n",
       "         6.55127016e-04,   1.41002131e-04,   4.27148742e-05,\n",
       "         6.43905667e-05,   5.97447385e-05,   7.55269822e-05,\n",
       "         2.03998724e-05,   2.55899374e-05,   2.64463445e-05,\n",
       "         7.71836614e-05,   4.03445998e-05,   2.76256524e-05,\n",
       "         1.50930793e-05,   6.13896115e-05,   5.40465051e-05,\n",
       "         1.97104297e-05,   3.00743061e-05,   2.20206751e-04,\n",
       "         0.00000000e+00])"
      ]
     },
     "execution_count": 11,
     "metadata": {},
     "output_type": "execute_result"
    }
   ],
   "source": [
    "raw.get_data().std(axis = 1)"
   ]
  },
  {
   "cell_type": "code",
   "execution_count": 13,
   "metadata": {},
   "outputs": [
    {
     "name": "stdout",
     "output_type": "stream",
     "text": [
      "Adding average EEG reference projection.\n",
      "1 projection items deactivated\n",
      "Average reference projection was added, but has not been applied yet. Use the apply_proj method to apply it.\n",
      "sample rate: 1000.0 Hz\n",
      "302000 channels x 302000 samples\n"
     ]
    }
   ],
   "source": [
    "raw.set_eeg_reference('average', projection=True)\n",
    "# Give the sample rate\n",
    "print('sample rate:', raw.info['sfreq'], 'Hz')\n",
    "# Give the size of the data matrix\n",
    "print('%s channels x %s samples' % (len(raw), len(raw.times)))"
   ]
  }
 ],
 "metadata": {
  "kernelspec": {
   "display_name": "Python 3",
   "language": "python",
   "name": "python3"
  },
  "language_info": {
   "codemirror_mode": {
    "name": "ipython",
    "version": 3
   },
   "file_extension": ".py",
   "mimetype": "text/x-python",
   "name": "python",
   "nbconvert_exporter": "python",
   "pygments_lexer": "ipython3",
   "version": "3.6.4"
  }
 },
 "nbformat": 4,
 "nbformat_minor": 2
}
